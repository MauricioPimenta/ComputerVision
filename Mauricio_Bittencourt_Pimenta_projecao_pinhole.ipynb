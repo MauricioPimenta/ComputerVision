{
  "cells": [
    {
      "cell_type": "markdown",
      "metadata": {
        "colab_type": "text",
        "id": "view-in-github"
      },
      "source": [
        "<a href=\"https://colab.research.google.com/github/MauricioPimenta/ComputerVision/blob/main/Mauricio_Bittencourt_Pimenta_projecao_pinhole.ipynb\" target=\"_parent\"><img src=\"https://colab.research.google.com/assets/colab-badge.svg\" alt=\"Open In Colab\"/></a>"
      ]
    },
    {
      "cell_type": "code",
      "execution_count": null,
      "metadata": {
        "id": "DdlZbvdYgOFB"
      },
      "outputs": [],
      "source": [
        "import matplotlib.pyplot as plt\n",
        "from mpl_toolkits.mplot3d import Axes3D\n",
        "%matplotlib inline\n",
        "import numpy as np"
      ]
    },
    {
      "cell_type": "markdown",
      "metadata": {
        "id": "1v_6y39Sgnw_"
      },
      "source": [
        "Funcões auxiliares"
      ]
    },
    {
      "cell_type": "code",
      "execution_count": null,
      "metadata": {
        "id": "BZFKkBVzghwl"
      },
      "outputs": [],
      "source": [
        "from math import pi,cos,sin\n",
        "\n",
        "### Setting printing options\n",
        "np.set_printoptions(formatter={'float': lambda x: \"{0:0.3f}\".format(x)})\n",
        "np.set_printoptions(precision=3,suppress=True)\n",
        "\n",
        "def move (dx,dy,dz):\n",
        "    T = np.eye(4)\n",
        "    T[0,-1] = dx\n",
        "    T[1,-1] = dy\n",
        "    T[2,-1] = dz\n",
        "    return T\n",
        "\n",
        "\n",
        "\n",
        "def z_rotation(angle):\n",
        "    rotation_matrix=np.array([[cos(angle),-sin(angle),0,0],[sin(angle),cos(angle),0,0],[0,0,1,0],[0,0,0,1]])\n",
        "    return rotation_matrix\n",
        "\n",
        "def x_rotation(angle):\n",
        "    rotation_matrix=np.array([[1,0,0,0],[0, cos(angle),-sin(angle),0],[0, sin(angle), cos(angle),0],[0,0,0,1]])\n",
        "    return rotation_matrix\n",
        "\n",
        "def y_rotation(angle):\n",
        "    rotation_matrix=np.array([[cos(angle),0, sin(angle),0],[0,1,0,0],[-sin(angle), 0, cos(angle),0],[0,0,0,1]])\n",
        "    return rotation_matrix\n",
        "\n",
        "\n",
        "def set_plot(ax=None,figure = None,lim=[-2,2]):\n",
        "    if figure ==None:\n",
        "        figure = plt.figure(figsize=(8,8))\n",
        "    if ax==None:\n",
        "        ax = plt.axes(projection='3d')\n",
        "\n",
        "    ax.set_title(\"camera referecnce\")\n",
        "    ax.set_xlim(lim)\n",
        "    ax.set_xlabel(\"x axis\")\n",
        "    ax.set_ylim(lim)\n",
        "    ax.set_ylabel(\"y axis\")\n",
        "    ax.set_zlim(lim)\n",
        "    ax.set_zlabel(\"z axis\")\n",
        "    return ax\n",
        "\n",
        "#adding quivers to the plot\n",
        "def draw_arrows(point,base,axis,length=1.5):\n",
        "    # The object base is a matrix, where each column represents the vector\n",
        "    # of one of the axis, written in homogeneous coordinates (ax,ay,az,0)\n",
        "\n",
        "\n",
        "    # Plot vector of x-axis\n",
        "    axis.quiver(point[0],point[1],point[2],base[0,0],base[1,0],base[2,0],color='red',pivot='tail',  length=length)\n",
        "    # Plot vector of y-axis\n",
        "    axis.quiver(point[0],point[1],point[2],base[0,1],base[1,1],base[2,1],color='green',pivot='tail',  length=length)\n",
        "    # Plot vector of z-axis\n",
        "    axis.quiver(point[0],point[1],point[2],base[0,2],base[1,2],base[2,2],color='blue',pivot='tail',  length=length)\n",
        "\n",
        "    return axis\n",
        "\n"
      ]
    },
    {
      "cell_type": "markdown",
      "metadata": {
        "id": "7VtIbht6gXC0"
      },
      "source": [
        "Criação da câmera e referencial do mundo\n",
        "\n",
        "Considere uma câmera representada pelos eixos coordenados abaixo. Note que a câmera está alinhada com o referencial do mundo e o eixo Z, o qual representa o eixo óptico da câmera, está apontado para cima."
      ]
    },
    {
      "cell_type": "code",
      "execution_count": null,
      "metadata": {
        "id": "Q5tSHdrqgwMs"
      },
      "outputs": [],
      "source": [
        "# base vector values\n",
        "e1 = np.array([[1],[0],[0],[0]]) # X\n",
        "e2 = np.array([[0],[1],[0],[0]]) # Y\n",
        "e3 = np.array([[0],[0],[1],[0]]) # Z\n",
        "base = np.hstack((e1,e2,e3))\n",
        "\n",
        "print ('Cartesian base: \\n',base)\n",
        "#origin point\n",
        "point =np.array([[0],[0],[0],[1]])\n",
        "\n",
        "cam = np.hstack((base,point))\n",
        "\n",
        "print ('Origin: \\n',point)\n",
        "\n",
        "print ('cam: \\n',cam)"
      ]
    },
    {
      "cell_type": "code",
      "execution_count": null,
      "metadata": {
        "id": "r3VYYQvUhG4I"
      },
      "outputs": [],
      "source": [
        "ax0 = set_plot()\n",
        "draw_arrows(point,base,ax0)\n",
        "draw_arrows(cam[:,-1],cam[:,0:3],ax0)"
      ]
    },
    {
      "cell_type": "markdown",
      "metadata": {
        "id": "MsZyVopFi_Jb"
      },
      "source": [
        "Agora vamos incluir um objeto na cena. Vamos usar a casa que já apresentamos no material das aulas de python."
      ]
    },
    {
      "cell_type": "code",
      "execution_count": null,
      "metadata": {
        "id": "6fv5soyTjFHz"
      },
      "outputs": [],
      "source": [
        "#Creating a house\n",
        "\n",
        "house = np.array([[0,         0,         0],\n",
        "         [0,  -10.0000,         0],\n",
        "         [0, -10.0000,   12.0000],\n",
        "         [0,  -10.4000,   11.5000],\n",
        "         [0,   -5.0000,   16.0000],\n",
        "         [0,         0,   12.0000],\n",
        "         [0,    0.5000,   11.4000],\n",
        "         [0,         0,   12.0000],\n",
        "         [0,         0,         0],\n",
        "  [-12.0000,         0,         0],\n",
        "  [-12.0000,   -5.0000,         0],\n",
        "  [-12.0000,  -10.0000,         0],\n",
        "         [0,  -10.0000,         0],\n",
        "         [0,  -10.0000,   12.0000],\n",
        "[-12.0000,  -10.0000,   12.0000],\n",
        "  [-12.0000,         0,   12.0000],\n",
        "         [0,         0,   12.0000],\n",
        "         [0,  -10.0000,   12.0000],\n",
        "         [0,  -10.5000,   11.4000],\n",
        "  [-12.0000,  -10.5000,   11.4000],\n",
        "  [-12.0000,  -10.0000,   12.0000],\n",
        "  [-12.0000,   -5.0000,   16.0000],\n",
        "         [0,   -5.0000,   16.0000],\n",
        "         [0,    0.5000,   11.4000],\n",
        "  [-12.0000,    0.5000,   11.4000],\n",
        "  [-12.0000,         0,   12.0000],\n",
        "  [-12.0000,   -5.0000,   16.0000],\n",
        "  [-12.0000,  -10.0000,   12.0000],\n",
        "  [-12.0000,  -10.0000,         0],\n",
        "  [-12.0000,   -5.0000,         0],\n",
        "  [-12.0000,         0,         0],\n",
        "  [-12.0000,         0,   12.0000],\n",
        "  [-12.0000,         0,         0]])\n",
        "\n",
        "house = np.transpose(house)\n",
        "\n",
        "# add a vector of ones to the house matrix to represent the house in homogeneous coordinates\n",
        "house = np.vstack([house, np.ones(np.size(house,1))])\n",
        "\n",
        "ax0 = set_plot(lim=[-15,20])\n",
        "draw_arrows(point,base,ax0)\n",
        "ax0.plot3D(house[0,:], house[1,:], house[2,:], 'red')\n",
        "# Plotando a quina da casa que está em (0,0,0) para servir de referência\n",
        "ax0.scatter(house[0,0], house[1,0], house[2,0],'b')\n",
        "# Plote a câmera também - adicione o código abaixo\n",
        "\n",
        "draw_arrows(cam[:,-1],cam[:,0:3],ax0)\n"
      ]
    },
    {
      "cell_type": "markdown",
      "metadata": {
        "id": "laMe0TwLibf9"
      },
      "source": [
        "Vamos posicionar a câmera com o eixo Z apontando para a casa e a uma distância de 10 unidades da casa.\n",
        "\n",
        "Tomando o sistema de coordenadas do mundo como referencial, vamos transformar o objeto câmera da seguinte forma:\n",
        "\n",
        "1- Rotacionar a câmera de -90 graus em torno do eixo X\n",
        "\n",
        "2- Rotacionar a câmera de 90 graus em torno do eixo Z\n",
        "\n",
        "3- Transladar a câmera para posicioná-la no ponto (15,-5,6)."
      ]
    },
    {
      "cell_type": "code",
      "execution_count": null,
      "metadata": {
        "id": "0e-Trig7iiWr"
      },
      "outputs": [],
      "source": [
        "cam_0 = cam\n",
        "\n",
        "Rx = x_rotation(-pi/2)\n",
        "Rz = z_rotation(pi/2)\n",
        "T = move(15,-5,6)\n",
        "M = np.dot(np.dot(T,Rz),Rx)\n",
        "cam  = np.dot(M,cam)\n",
        "\n",
        "print ('cam_0: \\n',cam_0)\n",
        "print ('cam: \\n',cam)\n",
        "\n",
        "ax0 = set_plot(lim=[-15,20])\n",
        "draw_arrows(point,base,ax0)\n",
        "ax0.plot3D(house[0,:], house[1,:], house[2,:], 'red')\n",
        "# Plotando a quina da casa que está em (0,0,0) para servir de referência\n",
        "ax0.scatter(house[0,0], house[1,0], house[2,0],'b')\n",
        "# Plote a câmera também - adicione o código abaixo\n",
        "\n",
        "draw_arrows(cam[:,-1],cam[:,0:3],ax0)"
      ]
    },
    {
      "cell_type": "markdown",
      "metadata": {
        "id": "lDaVatIqmfKP"
      },
      "source": [
        "Considere agora que a câmera tem como parâmetros intrínsecos:\n",
        "\n",
        "1- Distância focal igual a 50mm\n",
        "\n",
        "2- CCD de tamanho 36 x 24 mm que gera uma imagem de 1280 x 720 pixels\n",
        "\n",
        "3- Sem cisalhamento\n",
        "\n",
        "Construa a matriz de parâmetros intrínsecos.\n",
        "Faça seu código abaixo."
      ]
    },
    {
      "cell_type": "code",
      "execution_count": null,
      "metadata": {
        "id": "p6LAHxcXuDqC"
      },
      "outputs": [],
      "source": []
    },
    {
      "cell_type": "markdown",
      "metadata": {
        "id": "8wuyxty9_wxG"
      },
      "source": [
        "Baseado nas rotações e translação feitas para posicionamento da câmera, defina a matriz de parâmetros extrínsecos.\n",
        "\n",
        "Faça o código aqui."
      ]
    },
    {
      "cell_type": "code",
      "execution_count": null,
      "metadata": {
        "id": "z9HLeFmJAVKD"
      },
      "outputs": [],
      "source": []
    },
    {
      "cell_type": "markdown",
      "metadata": {
        "id": "-cFUv5tfAnXr"
      },
      "source": [
        "Agora que você já possui as matrizes de parâmetros instrínsecos e extrínsecos, defina a matriz completa de projeção perspectiva.\n",
        "\n",
        "Depois use essa matriz para projetar a casa no plano da imagem. Você fará isso realizando os seguintes passos:\n",
        "\n",
        "1- Multiplique a matriz de projeção pelo objeto a ser projetado. Este objeto deve estar representado em coordenadas homogêneas, no formato de uma matriz, onde cada ponto do objeto está representado em uma coluna.\n",
        "\n",
        "2- Depois de projetado, os pontos do objeto estarão na forma (kx, ky, k). Então para obter as coordenadas cartesianas de cada ponto projetado, você deverá realizar a divisão das suas duas primeiras coordenadas pela terceira para obter (x,y,1).\n",
        "\n",
        "3- Gere a imagem 2D, plotando os pontos projetados.\n",
        "\n",
        "4- Fique atento para o fato de que a origem da imagem está no canto superior esquerdo e que o eixo X e eixo Y aumentam da esquerda para a direita e de cima para baixo, respectivamente.\n",
        "\n",
        "Se achar mais interessante, monte uma função para realizar a projeção.\n",
        "\n",
        "Faça seu código abaixo. Há algumas dicas para te ajudar."
      ]
    },
    {
      "cell_type": "code",
      "execution_count": null,
      "metadata": {
        "id": "QhLTG6ZpEXj_"
      },
      "outputs": [],
      "source": [
        "# Matriz de projeção\n",
        "\n",
        "\n",
        "# Projeção e criação da imagem\n",
        "\n",
        "\n",
        "# Preparação das coordenadas na forma cartesiana\n",
        "\n",
        "\n",
        "# Plota a imagem\n",
        "\n",
        "fig = plt.figure()\n",
        "ax1 = plt.axes()\n",
        "ax1.set_title(\"Imagem\")\n",
        "# Acerte os limites do eixo X\n",
        "ax1.set_xlim([-10,10])\n",
        "# Acerte os limites do eixo Y\n",
        "# Para inverter, basta colocar o valor máximo primeiro e o valor mínimo depois\n",
        "ax1.set_ylim([-10,10])\n",
        "ax1.plot(3,4)\n",
        "ax1.grid('True')\n",
        "ax1.set_aspect('equal')\n",
        "\n",
        "plt.show()\n",
        "\n"
      ]
    }
  ],
  "metadata": {
    "colab": {
      "include_colab_link": true,
      "provenance": []
    },
    "kernelspec": {
      "display_name": "Python 3",
      "name": "python3"
    },
    "language_info": {
      "name": "python"
    }
  },
  "nbformat": 4,
  "nbformat_minor": 0
}
